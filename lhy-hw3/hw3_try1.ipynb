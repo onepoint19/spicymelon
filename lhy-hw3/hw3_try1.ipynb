{
 "cells": [
  {
   "cell_type": "code",
   "execution_count": 1,
   "metadata": {},
   "outputs": [],
   "source": [
    "import pandas as pd\n",
    "import numpy as np\n",
    "import matplotlib.pyplot as plt\n",
    "import matplotlib.cm as cm\n",
    "from scipy import ndimage\n",
    "import tensorflow as tf\n",
    "from tensorflow.keras import models, layers, optimizers\n",
    "from tensorflow import keras\n",
    "from IPython.display import display \n",
    "from PIL import Image\n",
    "train = pd.read_csv('/home/xiaodaidai/Documents/ml_lhy/assignment3/train.csv')\n",
    "test = pd.read_csv('/home/xiaodaidai/Documents/ml_lhy/assignment3/test.csv')\n",
    "\n",
    "pd.set_option('display.max_row', 1000)\n",
    "pd.set_option('display.max_columns',1000)\n"
   ]
  },
  {
   "cell_type": "code",
   "execution_count": 2,
   "metadata": {},
   "outputs": [
    {
     "data": {
      "text/plain": [
       "(28709, 2)"
      ]
     },
     "execution_count": 2,
     "metadata": {},
     "output_type": "execute_result"
    }
   ],
   "source": [
    "train.values.shape"
   ]
  },
  {
   "cell_type": "code",
   "execution_count": 5,
   "metadata": {},
   "outputs": [],
   "source": [
    "# np.asarray(train['feature'].values[i].split(), dtype = int).reshape(48,48)"
   ]
  },
  {
   "cell_type": "code",
   "execution_count": 6,
   "metadata": {},
   "outputs": [],
   "source": [
    "# train_all = np.zeros((train.values.shape[0],48,48,1))\n",
    "# for i in range(train.values.shape[0]):\n",
    "#     train_all[i,:,:,:] = np.asarray(train['feature'].values[i].split(), dtype = int).reshape(48,48,1)\n"
   ]
  },
  {
   "cell_type": "code",
   "execution_count": 7,
   "metadata": {},
   "outputs": [
    {
     "data": {
      "text/plain": [
       "(28709, 48, 48, 1)"
      ]
     },
     "execution_count": 7,
     "metadata": {},
     "output_type": "execute_result"
    }
   ],
   "source": [
    "train_all = np.asarray([np.asarray(x.split(), dtype = int).reshape(48,48,1) for x in train['feature'].values])\n",
    "train_all.shape"
   ]
  },
  {
   "cell_type": "code",
   "execution_count": 8,
   "metadata": {},
   "outputs": [
    {
     "name": "stdout",
     "output_type": "stream",
     "text": [
      "(28709, 1)\n",
      "(28709, 48, 48, 1)\n"
     ]
    }
   ],
   "source": [
    "train_y_all = np.asarray(train['label'].values.reshape((train.values.shape[0],1)),dtype = int)\n",
    "print(train_y_all.shape)\n",
    "print(train_all.shape)"
   ]
  },
  {
   "cell_type": "code",
   "execution_count": 9,
   "metadata": {},
   "outputs": [],
   "source": [
    "pm = np.random.permutation(train_y_all.shape[0])\n",
    "t = int(len(pm)*0.7)\n",
    "\n"
   ]
  },
  {
   "cell_type": "code",
   "execution_count": 10,
   "metadata": {},
   "outputs": [],
   "source": [
    "# zero-mean\n",
    "train_all_norm = train_all - int(train_all.mean())"
   ]
  },
  {
   "cell_type": "code",
   "execution_count": 11,
   "metadata": {},
   "outputs": [
    {
     "name": "stdout",
     "output_type": "stream",
     "text": [
      "(20096, 48, 48, 1) (20096, 1) (8613, 48, 48, 1) (8613, 1)\n"
     ]
    }
   ],
   "source": [
    "train_x = train_all[pm[0:t],:,:]\n",
    "train_y = train_y_all[pm[0:t],:]\n",
    "test_x = train_all[pm[t:len(pm)],:,:]\n",
    "test_y = train_y_all[pm[t:len(pm)],:]\n",
    "print(train_x.shape, train_y.shape,test_x.shape, test_y.shape)"
   ]
  },
  {
   "cell_type": "code",
   "execution_count": 12,
   "metadata": {},
   "outputs": [
    {
     "name": "stdout",
     "output_type": "stream",
     "text": [
      "129.45622420800296 129.51660658911916\n",
      "255 0\n"
     ]
    }
   ],
   "source": [
    "print(train_x.mean(),test_x.mean())\n",
    "print(train_x.max(),train_x.min())"
   ]
  },
  {
   "cell_type": "code",
   "execution_count": 13,
   "metadata": {},
   "outputs": [
    {
     "data": {
      "text/plain": [
       "<matplotlib.image.AxesImage at 0x7fd545b9d198>"
      ]
     },
     "execution_count": 13,
     "metadata": {},
     "output_type": "execute_result"
    }
   ],
   "source": [
    "# display image\n",
    "\n",
    "# plt.imshow(np.array(train_x[90,:,:,:].reshape(48,48)), cmap=cm.gray)"
   ]
  },
  {
   "cell_type": "code",
   "execution_count": 19,
   "metadata": {},
   "outputs": [],
   "source": [
    "# test\n",
    "datagen_shift = keras.preprocessing.image.ImageDataGenerator(width_shift_range=[-8,8])\n",
    "datagen_rotate = keras.preprocessing.image.ImageDataGenerator(rotation_range=30)\n",
    "datagen_bright = keras.preprocessing.image.ImageDataGenerator(brightness_range=[0.2,1.6])\n",
    "datagen_zoom = keras.preprocessing.image.ImageDataGenerator(zoom_range=[0.5,1.5])\n",
    "it_shift = datagen_shift.flow(train_x, train_y,batch_size = 20)\n",
    "it_rotate = datagen_rotate.flow(train_x, train_y,batch_size = 20)\n",
    "it_bright = datagen_bright.flow(train_x, train_y,batch_size = 20)\n",
    "it_zoom = datagen_zoom.flow(train_x, train_y,batch_size = 20)\n",
    "batch_shift = it_shift.next()\n",
    "batch_rotate = it_rotate.next()\n",
    "batch_bright = it_bright.next()\n",
    "batch_zoom = it_zoom.next()\n",
    "# print(len(batch)) #1st dim is for x, 2nd dim is for y\n",
    "# print(len(batch[0])) #list of images, batch_size determines how many images are created\n",
    "# print(len(batch[0][0]))\n",
    "# print(len(batch[0][0][0]))\n",
    "# print(len(batch[0][0][0][0]))\n",
    "\n",
    "plt.imshow(np.array(batch_shift[0][19].reshape(48,48)), cmap=cm.gray) #batch[0][0] is the first image in the created batch\n"
   ]
  },
  {
   "cell_type": "code",
   "execution_count": 23,
   "metadata": {},
   "outputs": [
    {
     "data": {
      "text/plain": [
       "<matplotlib.image.AxesImage at 0x7fd4ed9ff7f0>"
      ]
     },
     "execution_count": 23,
     "metadata": {},
     "output_type": "execute_result"
    },
    {
     "data": {
      "image/png": "[encoded data removed]",
      "text/plain": [
       "<Figure size 432x288 with 1 Axes>"
      ]
     },
     "metadata": {
      "needs_background": "light"
     },
     "output_type": "display_data"
    }
   ],
   "source": [
    "plt.imshow(np.array(batch_bright[0][6].reshape(48,48)), cmap=cm.gray) #batch[0][0] is the first image in the created batch\n"
   ]
  },
  {
   "cell_type": "code",
   "execution_count": 36,
   "metadata": {},
   "outputs": [
    {
     "data": {
      "text/plain": [
       "<matplotlib.image.AxesImage at 0x7fd4ec171fd0>"
      ]
     },
     "execution_count": 36,
     "metadata": {},
     "output_type": "execute_result"
    },
    {
     "data": {
      "image/png": "[encoded data removed]",
      "text/plain": [
       "<Figure size 432x288 with 1 Axes>"
      ]
     },
     "metadata": {
      "needs_background": "light"
     },
     "output_type": "display_data"
    }
   ],
   "source": [
    "datagen_all = keras.preprocessing.image.ImageDataGenerator(rotation_range=15,\n",
    "                               width_shift_range=0.1,\n",
    "                               height_shift_range=0.1,\n",
    "                               shear_range=0.01,\n",
    "                               zoom_range=[0.9, 1.25],\n",
    "                               horizontal_flip=True,\n",
    "                               vertical_flip=False,\n",
    "                               brightness_range=[0.5, 1.5])\n",
    "it_all = datagen_all.flow(train_x,train_y,batch_size = train_x.shape[0])\n",
    "batch_all = it_all.next()\n",
    "plt.imshow(np.array(batch_all[0][0].reshape(48,48)), cmap=cm.gray) #batch[0][0] is the first image in the created batch\n"
   ]
  },
  {
   "cell_type": "code",
   "execution_count": 47,
   "metadata": {},
   "outputs": [
    {
     "data": {
      "text/plain": [
       "(80384, 48, 48, 1)"
      ]
     },
     "execution_count": 47,
     "metadata": {},
     "output_type": "execute_result"
    }
   ],
   "source": [
    "epoch = 30\n",
    "i = 0\n",
    "train_x_aug = batch_all[0]\n",
    "train_y_aug = batch_all[1]\n",
    "while i < epoch:\n",
    "    i += 1\n",
    "    batch_all = it_all.next()\n",
    "    train_x_aug = np.append(train_x_aug, batch_all[0], axis = 0)\n",
    "    train_y_aug = np.append(train_y_aug, batch_all[1], axis = 0)\n",
    "train_x_aug.shape"
   ]
  },
  {
   "cell_type": "code",
   "execution_count": 48,
   "metadata": {},
   "outputs": [
    {
     "data": {
      "text/plain": [
       "(80384, 1)"
      ]
     },
     "execution_count": 48,
     "metadata": {},
     "output_type": "execute_result"
    }
   ],
   "source": [
    "train_y_aug.shape\n"
   ]
  },
  {
   "cell_type": "code",
   "execution_count": 49,
   "metadata": {},
   "outputs": [
    {
     "name": "stderr",
     "output_type": "stream",
     "text": [
      "WARNING: Logging before flag parsing goes to stderr.\n",
      "W1013 22:28:45.570988 140556424111936 deprecation.py:506] From /home/xiaodaidai/virtualenv/kaggle/lib/python3.6/site-packages/tensorflow/python/ops/init_ops.py:1251: calling VarianceScaling.__init__ (from tensorflow.python.ops.init_ops) with dtype is deprecated and will be removed in a future version.\n",
      "Instructions for updating:\n",
      "Call initializer instance with the dtype argument instead of passing it to the constructor\n"
     ]
    }
   ],
   "source": [
    "model = models.Sequential()\n",
    "model.add(layers.Conv2D(32, (3, 3),  input_shape=(48, 48, 1)\n",
    "#                         ,activation = 'relu'\n",
    "                        ,kernel_initializer='glorot_uniform'\n",
    "                       ))\n",
    "# model.add(layers.LeakyReLU())\n",
    "model.add(layers.BatchNormalization())\n",
    "model.add(layers.ReLU())\n",
    "model.add(layers.MaxPooling2D((2, 2)))\n",
    "# model.add(layers.Dropout(0.5))\n",
    "model.add(layers.Conv2D(64, (3, 3)\n",
    "#                         ,activation = 'relu'\n",
    "                       ))\n",
    "model.add(layers.BatchNormalization())\n",
    "model.add(layers.ReLU())\n",
    "model.add(layers.MaxPooling2D((2, 2)))\n",
    "model.add(layers.Conv2D(128, (3, 3)\n",
    "#                         , activation='relu'\n",
    "                       ))\n",
    "model.add(layers.BatchNormalization())\n",
    "model.add(layers.ReLU())\n",
    "\n",
    "model.add(layers.MaxPooling2D((2, 2)))\n",
    "model.add(layers.Flatten())\n",
    "model.add(layers.Dropout(0.5))\n",
    "model.add(layers.Dense(128\n",
    "#                        ,activation = 'relu'\n",
    "                       , kernel_regularizer=keras.regularizers.l1(0.01)\n",
    "                      ))\n",
    "model.add(layers.BatchNormalization())\n",
    "model.add(layers.ReLU())\n",
    "\n",
    "# model.add(layers.Dropout(0.5))\n",
    "# model.add(layers.LeakyReLU())\n",
    "# model.add(layers.Dropout(0.2))\n",
    "model.add(layers.Dense(7, activation='softmax'\n",
    "#                        , kernel_regularizer=keras.regularizers.l1(0.01)\n",
    "                      ))"
   ]
  },
  {
   "cell_type": "code",
   "execution_count": 50,
   "metadata": {},
   "outputs": [
    {
     "name": "stdout",
     "output_type": "stream",
     "text": [
      "Model: \"sequential\"\n",
      "_________________________________________________________________\n",
      "Layer (type)                 Output Shape              Param #   \n",
      "=================================================================\n",
      "conv2d (Conv2D)              (None, 46, 46, 32)        320       \n",
      "_________________________________________________________________\n",
      "batch_normalization (BatchNo (None, 46, 46, 32)        128       \n",
      "_________________________________________________________________\n",
      "re_lu (ReLU)                 (None, 46, 46, 32)        0         \n",
      "_________________________________________________________________\n",
      "max_pooling2d (MaxPooling2D) (None, 23, 23, 32)        0         \n",
      "_________________________________________________________________\n",
      "conv2d_1 (Conv2D)            (None, 21, 21, 64)        18496     \n",
      "_________________________________________________________________\n",
      "batch_normalization_1 (Batch (None, 21, 21, 64)        256       \n",
      "_________________________________________________________________\n",
      "re_lu_1 (ReLU)               (None, 21, 21, 64)        0         \n",
      "_________________________________________________________________\n",
      "max_pooling2d_1 (MaxPooling2 (None, 10, 10, 64)        0         \n",
      "_________________________________________________________________\n",
      "conv2d_2 (Conv2D)            (None, 8, 8, 128)         73856     \n",
      "_________________________________________________________________\n",
      "batch_normalization_2 (Batch (None, 8, 8, 128)         512       \n",
      "_________________________________________________________________\n",
      "re_lu_2 (ReLU)               (None, 8, 8, 128)         0         \n",
      "_________________________________________________________________\n",
      "max_pooling2d_2 (MaxPooling2 (None, 4, 4, 128)         0         \n",
      "_________________________________________________________________\n",
      "flatten (Flatten)            (None, 2048)              0         \n",
      "_________________________________________________________________\n",
      "dropout (Dropout)            (None, 2048)              0         \n",
      "_________________________________________________________________\n",
      "dense (Dense)                (None, 128)               262272    \n",
      "_________________________________________________________________\n",
      "batch_normalization_3 (Batch (None, 128)               512       \n",
      "_________________________________________________________________\n",
      "re_lu_3 (ReLU)               (None, 128)               0         \n",
      "_________________________________________________________________\n",
      "dense_1 (Dense)              (None, 7)                 903       \n",
      "=================================================================\n",
      "Total params: 357,255\n",
      "Trainable params: 356,551\n",
      "Non-trainable params: 704\n",
      "_________________________________________________________________\n"
     ]
    }
   ],
   "source": [
    "model.summary()"
   ]
  },
  {
   "cell_type": "code",
   "execution_count": null,
   "metadata": {},
   "outputs": [
    {
     "name": "stdout",
     "output_type": "stream",
     "text": [
      "Epoch 1/5\n",
      "80384/80384 [==============================] - 186s 2ms/sample - loss: 19.6420 - acc: 0.2649\n",
      "Epoch 2/5\n",
      "80384/80384 [==============================] - 190s 2ms/sample - loss: 3.2980 - acc: 0.3387\n",
      "Epoch 3/5\n",
      "80384/80384 [==============================] - 185s 2ms/sample - loss: 2.9825 - acc: 0.3666\n",
      "Epoch 4/5\n",
      "26624/80384 [========>.....................] - ETA: 2:11 - loss: 2.9144 - acc: 0.3788"
     ]
    }
   ],
   "source": [
    "adam = keras.optimizers.Adam(learning_rate=1, beta_1=0.9, beta_2=0.999, amsgrad=False)\n",
    "model.compile(optimizer='adam',\n",
    "              loss='sparse_categorical_crossentropy',\n",
    "              metrics=['accuracy'])\n",
    "\n",
    "history = model.fit(train_x_aug, train_y_aug, batch_size=1024,\n",
    "                    epochs=5)"
   ]
  },
  {
   "cell_type": "code",
   "execution_count": null,
   "metadata": {},
   "outputs": [],
   "source": [
    "test_loss, test_acc = model.evaluate(test_x, test_y)"
   ]
  }
 ],
 "metadata": {
  "kernelspec": {
   "display_name": "Python 3",
   "language": "python",
   "name": "python3"
  },
  "language_info": {
   "codemirror_mode": {
    "name": "ipython",
    "version": 3
   },
   "file_extension": ".py",
   "mimetype": "text/x-python",
   "name": "python",
   "nbconvert_exporter": "python",
   "pygments_lexer": "ipython3",
   "version": "3.6.7"
  }
 },
 "nbformat": 4,
 "nbformat_minor": 4
}
